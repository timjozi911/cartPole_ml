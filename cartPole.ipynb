{
 "cells": [
  {
   "cell_type": "code",
   "execution_count": 1,
   "id": "c6729624-2720-48bd-a433-721687e0fd28",
   "metadata": {
    "tags": []
   },
   "outputs": [],
   "source": [
    "import numpy as np\n",
    "import gym\n",
    "import time\n",
    "import math"
   ]
  },
  {
   "cell_type": "code",
   "execution_count": 2,
   "id": "330a2b28-e4fe-431a-a466-bbe9113f0353",
   "metadata": {
    "tags": []
   },
   "outputs": [
    {
     "name": "stdout",
     "output_type": "stream",
     "text": [
      "2\n"
     ]
    }
   ],
   "source": [
    "env = gym.make(\"CartPole-v1\")\n",
    "print(env.action_space.n)"
   ]
  },
  {
   "cell_type": "code",
   "execution_count": 3,
   "id": "1d67603b-cea8-40bc-b8a9-6cc35c453f87",
   "metadata": {
    "tags": []
   },
   "outputs": [],
   "source": [
    "lr = .1\n",
    "\n",
    "gamma = .95\n",
    "\n",
    "epochs = 60000\n",
    "total_time = 0\n",
    "total_reward = 0\n",
    "prev_reward = 0\n",
    "\n",
    "observation = [30,30,50,50]\n",
    "step_size = np.array([.25,.25,.01,.01])\n",
    "\n",
    "epsilon = 1\n",
    "\n",
    "epsilon_decay_value = .9995"
   ]
  },
  {
   "cell_type": "code",
   "execution_count": 4,
   "id": "6df7d275-71e6-402f-99e7-9f25ee054d13",
   "metadata": {
    "tags": []
   },
   "outputs": [],
   "source": [
    "q_table = np.random.uniform(low=0, high=1, size= (observation+[env.action_space.n]))\n",
    "# print(q_table[0][0])"
   ]
  },
  {
   "cell_type": "code",
   "execution_count": 5,
   "id": "1d020496-831a-4eca-990a-f2ad2056b8af",
   "metadata": {},
   "outputs": [],
   "source": [
    "def get_discrete_state(state):\n",
    "    discrete_state = state/step_size + np.array([15,10,1,10])\n",
    "    return tuple(discrete_state.astype(np.int))"
   ]
  }
 ],
 "metadata": {
  "kernelspec": {
   "display_name": "Python 3 (ipykernel)",
   "language": "python",
   "name": "python3"
  },
  "language_info": {
   "codemirror_mode": {
    "name": "ipython",
    "version": 3
   },
   "file_extension": ".py",
   "mimetype": "text/x-python",
   "name": "python",
   "nbconvert_exporter": "python",
   "pygments_lexer": "ipython3",
   "version": "3.12.0"
  }
 },
 "nbformat": 4,
 "nbformat_minor": 5
}
